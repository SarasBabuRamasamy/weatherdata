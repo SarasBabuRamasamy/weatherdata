{
 "cells": [
  {
   "cell_type": "markdown",
   "id": "80febe93-0955-4e1b-878f-81ad6e8d68bb",
   "metadata": {},
   "source": [
    "# Weather Station\n",
    "Start of a project to bring in information from a website with an Application Programming Interface (API). We are going to use a modified version of \"Project: Fetching Current Weather Data\" from \"Automate the boring stuff with Python\" by Al Sweigart e-book available at https://ebookcentral.proquest.com/lib/canterburychristchurch/detail.action?docID=4503140 pages 383-387 Sweigart (2015)\n",
    "\n",
    "## What do you need to do first?\n",
    "> Go to https://openweathermap.org/api/ and current weather data.\n",
    "> Subscribe for free access and get Api. You will need to provide an email address sometime it is better to have a sacrificial email account to use for these kind of activities.\n",
    "> Copy the API key you get, you will need to use it later.\n",
    "> In the code below in the line APP_ID=' ' inside the quotes put your API key\n",
    "\n",
    "# What is going on below?\n",
    "We are setting up the API key and import some of the Python modules we need.\n"
   ]
  },
  {
   "cell_type": "code",
   "execution_count": 1,
   "id": "1c42e50e-f34a-40a7-9cdb-23be21ebfb04",
   "metadata": {},
   "outputs": [],
   "source": [
    "APP_ID=''\n",
    "\n",
    "import json, requests, sys\n",
    "Location='London,uk'"
   ]
  },
  {
   "cell_type": "markdown",
   "id": "10b87bd6-4630-4f04-8054-448c6b589eb7",
   "metadata": {},
   "source": [
    "In this section we creating a string made up of the URL and the location we want information about and adding in our API key for the site - it is just a string at this stage.\n",
    "\n",
    "Requesting the information from the site with the URL we created and pass back the information.\n",
    "\n",
    "Then print out what was returned."
   ]
  },
  {
   "cell_type": "code",
   "execution_count": 2,
   "id": "fa35f113-3ec7-4f1e-9165-708734bd0dbb",
   "metadata": {},
   "outputs": [
    {
     "name": "stdout",
     "output_type": "stream",
     "text": [
      "{\"coord\":{\"lon\":-0.1257,\"lat\":51.5085},\"weather\":[{\"id\":800,\"main\":\"Clear\",\"description\":\"clear sky\",\"icon\":\"01d\"}],\"base\":\"stations\",\"main\":{\"temp\":6.79,\"feels_like\":4.28,\"temp_min\":5.39,\"temp_max\":8.08,\"pressure\":1017,\"humidity\":71},\"visibility\":10000,\"wind\":{\"speed\":3.6,\"deg\":330},\"clouds\":{\"all\":8},\"dt\":1637843906,\"sys\":{\"type\":2,\"id\":2019646,\"country\":\"GB\",\"sunrise\":1637825718,\"sunset\":1637856008},\"timezone\":0,\"id\":2643743,\"name\":\"London\",\"cod\":200}\n"
     ]
    }
   ],
   "source": [
    "\n",
    "url='http://api.openweathermap.org/data/2.5/weather?q='+Location+'&APPID='+APP_ID+'&units=metric'\n",
    "response= requests.get(url)\n",
    "response.raise_for_status()\n",
    "\n",
    "print(response.text)"
   ]
  },
  {
   "cell_type": "markdown",
   "id": "2cec047a-7e41-46cb-b5f2-e53608b50875",
   "metadata": {},
   "source": [
    "Now we need load the data which is in JSON form into a Python version.\n",
    "We are going to \n",
    "> 1. Display the city\n",
    "> 2. Display a summary of the weather\n",
    "> 3. Display the maximum temperature in Centigrade\n",
    "> 4. Display the time of sun rise using a modified version of the code from W3resource.com(2021) to do the conversion of unix time to date and time"
   ]
  },
  {
   "cell_type": "code",
   "execution_count": 3,
   "id": "04974c09-ddf8-400a-a737-63d859042c2c",
   "metadata": {},
   "outputs": [
    {
     "name": "stdout",
     "output_type": "stream",
     "text": [
      "Current weather in London:\n",
      "clear sky\n",
      "The maximum temperature in Centigrade is 6.79:\n",
      "Sun Rise is: 25-11-2021 07:35:18\n"
     ]
    }
   ],
   "source": [
    "weatherData = json.loads(response.text)\n",
    "w=weatherData['weather']\n",
    "print('Current weather in %s:' % (weatherData[\"name\"]))\n",
    "print(w[0]['description'])\n",
    "print('The maximum temperature in Centigrade is %s:' % (weatherData[\"main\"][\"temp\"]))\n",
    "import datetime\n",
    "#time conversion from W3resource.com(2021) \n",
    "print(\"Sun Rise is: \"+\n",
    "    datetime.datetime.fromtimestamp(\n",
    "        int(weatherData[\"sys\"][\"sunrise\"])\n",
    "    ).strftime('%d-%m-%Y %H:%M:%S')\n",
    ")"
   ]
  },
  {
   "cell_type": "code",
   "execution_count": null,
   "id": "ea5c3b46-f833-4f52-98e8-6ba5869e2966",
   "metadata": {},
   "outputs": [],
   "source": []
  },
  {
   "cell_type": "markdown",
   "id": "72e9fad0-f073-45e0-be55-4e82360c0863",
   "metadata": {},
   "source": [
    "# References\n",
    "W3resource.com(2021) Python: Convert unix timestamp string to readable date [online]\n",
    "https://www.w3resource.com/python-exercises/date-time-exercise/python-date-time-exercise-6.php [accessed on ] 25/11/2021\n",
    "\n",
    "Sweigart, A (2015), Automate the Boring Stuff with Python : Practical Programming for Total Beginners, No Starch Press, Incorporated, San Francisco. Available from: ProQuest Ebook Central. [25 November 2021]."
   ]
  }
 ],
 "metadata": {
  "kernelspec": {
   "display_name": "Python 3 (ipykernel)",
   "language": "python",
   "name": "python3"
  },
  "language_info": {
   "codemirror_mode": {
    "name": "ipython",
    "version": 3
   },
   "file_extension": ".py",
   "mimetype": "text/x-python",
   "name": "python",
   "nbconvert_exporter": "python",
   "pygments_lexer": "ipython3",
   "version": "3.9.7"
  }
 },
 "nbformat": 4,
 "nbformat_minor": 5
}
